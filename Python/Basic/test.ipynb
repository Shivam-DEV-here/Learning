{
 "cells": [
  {
   "cell_type": "code",
   "execution_count": 2,
   "id": "e2add31b-7896-4083-b34e-161f4d451fc8",
   "metadata": {},
   "outputs": [
    {
     "name": "stdout",
     "output_type": "stream",
     "text": [
      "no\n"
     ]
    }
   ],
   "source": [
    "if 5>6:\n",
    "    print(\"Hello\")\n",
    "else:\n",
    "    print (\"no\")"
   ]
  },
  {
   "cell_type": "code",
   "execution_count": 10,
   "id": "684b3d93-e9ae-4fed-8625-82fb571e8cbd",
   "metadata": {},
   "outputs": [
    {
     "name": "stdout",
     "output_type": "stream",
     "text": [
      " you\n",
      "  you\n",
      "you\n"
     ]
    }
   ],
   "source": [
    "val=\"\"\n",
    "cry=\" \"\n",
    "print(val,\"you\")\n",
    "print(cry,\"you\")\n",
    "print(\"you\")"
   ]
  },
  {
   "cell_type": "code",
   "execution_count": 11,
   "id": "6be6f156-778f-4c57-880e-d7327fc2e628",
   "metadata": {},
   "outputs": [
    {
     "ename": "NameError",
     "evalue": "name 'x' is not defined",
     "output_type": "error",
     "traceback": [
      "\u001b[31m---------------------------------------------------------------------------\u001b[39m",
      "\u001b[31mNameError\u001b[39m                                 Traceback (most recent call last)",
      "\u001b[36mCell\u001b[39m\u001b[36m \u001b[39m\u001b[32mIn[11]\u001b[39m\u001b[32m, line 3\u001b[39m\n\u001b[32m      1\u001b[39m x=\u001b[32m78\u001b[39m\n\u001b[32m      2\u001b[39m \u001b[38;5;28;01mdel\u001b[39;00m x\n\u001b[32m----> \u001b[39m\u001b[32m3\u001b[39m \u001b[38;5;28mprint\u001b[39m(\u001b[43mx\u001b[49m)\n",
      "\u001b[31mNameError\u001b[39m: name 'x' is not defined"
     ]
    }
   ],
   "source": [
    "x=78\n",
    "del x\n",
    "print(x)"
   ]
  },
  {
   "cell_type": "code",
   "execution_count": 4,
   "id": "f7fbef43-9598-474f-84e3-86a276a6c5d7",
   "metadata": {},
   "outputs": [
    {
     "name": "stdout",
     "output_type": "stream",
     "text": [
      "2\n",
      "6 test\n",
      "7\n",
      "6 test\n",
      "6 test\n",
      "5\n",
      "6 test\n",
      "-7\n",
      "12\n",
      "1\n"
     ]
    }
   ],
   "source": [
    "a = 6  # binary 0110\n",
    "b = 3  # binary 0011\n",
    "\n",
    "print(a & b)   # Output: 2 (binary 0010)\n",
    "print(a,\"test\")\n",
    "\n",
    "\n",
    "print(a | b)   # Output: 7 (binary 0111)\n",
    "print(a,\"test\")\n",
    "print(a,\"test\")\n",
    "print(a ^ b)   # Output: 5 (binary 0101)\n",
    "print(a,\"test\")\n",
    "print(~a)      # Output: -7 (bitwise NOT)\n",
    "print(a << 1)  # Output: 12 (binary 1100)\n",
    "print(b >> 1)  # Output: 1 (binary 0001)\n"
   ]
  },
  {
   "cell_type": "code",
   "execution_count": 2,
   "id": "7b97d12b-7a7f-4a3f-ad8f-24184aa5b9f7",
   "metadata": {},
   "outputs": [
    {
     "name": "stdout",
     "output_type": "stream",
     "text": [
      "[33, 232, 4.5]\n"
     ]
    }
   ],
   "source": [
    "lists=['hello', 232, 4.5]\n",
    "lists[0]=33\n",
    "print(lists)"
   ]
  },
  {
   "cell_type": "code",
   "execution_count": 3,
   "id": "0b1afb18-b13d-4863-bd32-390e9115dbba",
   "metadata": {},
   "outputs": [
    {
     "name": "stdout",
     "output_type": "stream",
     "text": [
      "4\n"
     ]
    }
   ],
   "source": [
    "l=[1,2,23, 'hello']\n",
    "print(len(l))\n",
    "# print(min(l))"
   ]
  },
  {
   "cell_type": "code",
   "execution_count": 6,
   "id": "45c2fad8-f82c-48a2-977c-f8502b403ba3",
   "metadata": {},
   "outputs": [
    {
     "name": "stdin",
     "output_type": "stream",
     "text": [
      "Enter value 1\n",
      "Enter value 223232\n",
      "Enter value 3224\n",
      "Enter value 3434\n",
      "Enter value 34343\n",
      "Enter value 4434\n",
      "Enter value 34\n",
      "Enter value 334\n",
      "Enter value 34\n",
      "Enter value 34\n"
     ]
    },
    {
     "name": "stdout",
     "output_type": "stream",
     "text": [
      "[0, 1, 2, 3, 4, 5, 6, 7, 8, 9]\n"
     ]
    }
   ],
   "source": [
    "my_list = []\n",
    "\n",
    "for i in range(10):\n",
    "    x=input(\"Enter value\")\n",
    "    my_list.append(i)\n",
    "print(my_list)"
   ]
  },
  {
   "cell_type": "code",
   "execution_count": null,
   "id": "3d922ade-7a45-4ad9-b8e2-653892161b93",
   "metadata": {},
   "outputs": [
    {
     "name": "stdout",
     "output_type": "stream",
     "text": [
      "\n",
      "Choose operation:\n",
      "1. Push (Add item)\n",
      "2. Pop (Remove item)\n",
      "3. Display Stack\n",
      "4. Exit\n"
     ]
    },
    {
     "name": "stdin",
     "output_type": "stream",
     "text": [
      "Enter your choice (1/2/3/4):  1\n",
      "Enter item to push:  223\n"
     ]
    },
    {
     "name": "stdout",
     "output_type": "stream",
     "text": [
      "223 pushed to stack.\n",
      "\n",
      "Choose operation:\n",
      "1. Push (Add item)\n",
      "2. Pop (Remove item)\n",
      "3. Display Stack\n",
      "4. Exit\n"
     ]
    },
    {
     "name": "stdin",
     "output_type": "stream",
     "text": [
      "Enter your choice (1/2/3/4):  3\n"
     ]
    },
    {
     "name": "stdout",
     "output_type": "stream",
     "text": [
      "Current Stack: ['223']\n",
      "\n",
      "Choose operation:\n",
      "1. Push (Add item)\n",
      "2. Pop (Remove item)\n",
      "3. Display Stack\n",
      "4. Exit\n"
     ]
    },
    {
     "name": "stdin",
     "output_type": "stream",
     "text": [
      "Enter your choice (1/2/3/4):  2\n"
     ]
    },
    {
     "name": "stdout",
     "output_type": "stream",
     "text": [
      "223 popped from stack.\n",
      "\n",
      "Choose operation:\n",
      "1. Push (Add item)\n",
      "2. Pop (Remove item)\n",
      "3. Display Stack\n",
      "4. Exit\n"
     ]
    },
    {
     "name": "stdin",
     "output_type": "stream",
     "text": [
      "Enter your choice (1/2/3/4):  3\n"
     ]
    },
    {
     "name": "stdout",
     "output_type": "stream",
     "text": [
      "Current Stack: []\n",
      "\n",
      "Choose operation:\n",
      "1. Push (Add item)\n",
      "2. Pop (Remove item)\n",
      "3. Display Stack\n",
      "4. Exit\n"
     ]
    }
   ],
   "source": [
    "stack = []  # empty list to represent the stack\n",
    "\n",
    "while True:\n",
    "    print(\"\\nChoose operation:\")\n",
    "    print(\"1. Push (Add item)\")\n",
    "    print(\"2. Pop (Remove item)\")\n",
    "    print(\"3. Display Stack\")\n",
    "    print(\"4. Exit\")\n",
    "    choice = input(\"Enter your choice (1/2/3/4): \")\n",
    "\n",
    "    if choice == '1':\n",
    "        item = input(\"Enter item to push: \")\n",
    "        stack.append(item)\n",
    "        print(f\"{item} pushed to stack.\")\n",
    "\n",
    "    elif choice == '2':\n",
    "        if len(stack) == 0:\n",
    "            print(\"Stack is empty. Nothing to pop.\")\n",
    "        else:\n",
    "            stack.pop()\n",
    "            print(f\"{removed} popped from stack.\")\n",
    "\n",
    "    elif choice == '3':\n",
    "        print(\"Current Stack:\", stack)\n",
    "\n",
    "    elif choice == '4':\n",
    "        print(\"Exiting...\")\n",
    "        break\n",
    "\n",
    "    else:\n",
    "        print(\"Invalid choice. Try again.\")\n",
    "\n",
    "print(stack)"
   ]
  },
  {
   "cell_type": "code",
   "execution_count": 10,
   "id": "402b0f66-4ce2-412d-b0b0-8c338e9c7c8d",
   "metadata": {},
   "outputs": [
    {
     "ename": "TypeError",
     "evalue": "object of type 'bool' has no len()",
     "output_type": "error",
     "traceback": [
      "\u001b[31m---------------------------------------------------------------------------\u001b[39m",
      "\u001b[31mTypeError\u001b[39m                                 Traceback (most recent call last)",
      "\u001b[36mCell\u001b[39m\u001b[36m \u001b[39m\u001b[32mIn[10]\u001b[39m\u001b[32m, line 5\u001b[39m\n\u001b[32m      3\u001b[39m c=\u001b[32m55\u001b[39m\n\u001b[32m      4\u001b[39m \u001b[38;5;28;01mif\u001b[39;00m(a<b \u001b[38;5;129;01mand\u001b[39;00m a<c):\n\u001b[32m----> \u001b[39m\u001b[32m5\u001b[39m     \u001b[38;5;28mprint\u001b[39m(\u001b[38;5;28;43mlen\u001b[39;49m\u001b[43m(\u001b[49m\u001b[38;5;28;43;01mTrue\u001b[39;49;00m\u001b[43m)\u001b[49m)\n\u001b[32m      6\u001b[39m \u001b[38;5;28;01melse\u001b[39;00m:\n\u001b[32m      7\u001b[39m     \u001b[38;5;28mprint\u001b[39m(\u001b[38;5;28;01mFalse\u001b[39;00m)\n",
      "\u001b[31mTypeError\u001b[39m: object of type 'bool' has no len()"
     ]
    }
   ],
   "source": [
    "a=1\n",
    "b=5\n",
    "c=55\n",
    "if(a<b and a<c):\n",
    "    print(len(True))\n",
    "else:\n",
    "    print(False)"
   ]
  },
  {
   "cell_type": "code",
   "execution_count": 26,
   "id": "1d0d0e26-79bf-407a-8c33-5989f525f94c",
   "metadata": {},
   "outputs": [
    {
     "name": "stdout",
     "output_type": "stream",
     "text": [
      "Hello 57656 Helsslo\n"
     ]
    }
   ],
   "source": [
    "str=\"Hello\"\n",
    "str2=\"Helsslo\"\n",
    "print(str,\"57656\",str2)\n",
    "\n",
    "# print(str[-5:-1:1])"
   ]
  },
  {
   "cell_type": "code",
   "execution_count": null,
   "id": "eb4f7131-de9f-44e9-8731-a00124bfec89",
   "metadata": {},
   "outputs": [],
   "source": []
  }
 ],
 "metadata": {
  "kernelspec": {
   "display_name": "Python 3 (ipykernel)",
   "language": "python",
   "name": "python3"
  },
  "language_info": {
   "codemirror_mode": {
    "name": "ipython",
    "version": 3
   },
   "file_extension": ".py",
   "mimetype": "text/x-python",
   "name": "python",
   "nbconvert_exporter": "python",
   "pygments_lexer": "ipython3",
   "version": "3.13.3"
  }
 },
 "nbformat": 4,
 "nbformat_minor": 5
}
