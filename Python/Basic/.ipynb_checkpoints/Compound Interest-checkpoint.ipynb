{
 "cells": [
  {
   "cell_type": "code",
   "execution_count": 1,
   "id": "fde3e639-04dd-4cbe-9926-fd9a7a342a78",
   "metadata": {},
   "outputs": [
    {
     "name": "stdout",
     "output_type": "stream",
     "text": [
      "1000.00000011259\n"
     ]
    }
   ],
   "source": [
    "p=1000\n",
    "r=2\n",
    "t=5\n",
    "n=5\n",
    "a=p*(1+(r/n)**(n*t))\n",
    "print(a)"
   ]
  },
  {
   "cell_type": "code",
   "execution_count": null,
   "id": "d02f7fa7-4b90-44f7-8f0c-0032929ff519",
   "metadata": {},
   "outputs": [],
   "source": []
  }
 ],
 "metadata": {
  "kernelspec": {
   "display_name": "Python 3 (ipykernel)",
   "language": "python",
   "name": "python3"
  },
  "language_info": {
   "codemirror_mode": {
    "name": "ipython",
    "version": 3
   },
   "file_extension": ".py",
   "mimetype": "text/x-python",
   "name": "python",
   "nbconvert_exporter": "python",
   "pygments_lexer": "ipython3",
   "version": "3.13.2"
  }
 },
 "nbformat": 4,
 "nbformat_minor": 5
}
