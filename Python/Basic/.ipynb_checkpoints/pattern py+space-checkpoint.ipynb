{
 "cells": [
  {
   "cell_type": "code",
   "execution_count": 24,
   "id": "8aeb5b51-c221-42f6-b8f6-1558ed7d0b32",
   "metadata": {},
   "outputs": [
    {
     "name": "stdout",
     "output_type": "stream",
     "text": [
      "Helloddd\n",
      "0000*\n",
      "000**\n",
      "00***\n",
      "0****\n",
      "*****\n"
     ]
    }
   ],
   "source": [
    "print(\"Helloddd\")\n",
    "for i in range(6,1,-1):\n",
    "    for k in range(i,2,-1):\n",
    "        print(\"0\", end=\"\")\n",
    "    for j in range(1,i-6,-1):\n",
    "        print(\"*\", end=\"\")\n",
    "    print(\"\")"
   ]
  },
  {
   "cell_type": "code",
   "execution_count": 31,
   "id": "03ca040d-342a-4beb-ba74-970be878e9fc",
   "metadata": {},
   "outputs": [
    {
     "name": "stdout",
     "output_type": "stream",
     "text": [
      "Helloddd\n",
      "* * * * * \n",
      "0 * * * * \n",
      "0 0 * * * \n",
      "0 0 0 * * \n",
      "0 0 0 0 * \n"
     ]
    }
   ],
   "source": [
    "print(\"Helloddd\")\n",
    "for i in range(1,6):\n",
    "    for k in range(1,i):\n",
    "        print(\"0\", end=\" \")\n",
    "    for j in range(6,i,-1):\n",
    "        print(\"*\", end=\" \")\n",
    "    print(\"\")"
   ]
  },
  {
   "cell_type": "code",
   "execution_count": null,
   "id": "4b34254b-6faa-40ce-a54f-c06e59eddb0b",
   "metadata": {},
   "outputs": [],
   "source": []
  }
 ],
 "metadata": {
  "kernelspec": {
   "display_name": "Python 3 (ipykernel)",
   "language": "python",
   "name": "python3"
  },
  "language_info": {
   "codemirror_mode": {
    "name": "ipython",
    "version": 3
   },
   "file_extension": ".py",
   "mimetype": "text/x-python",
   "name": "python",
   "nbconvert_exporter": "python",
   "pygments_lexer": "ipython3",
   "version": "3.13.2"
  }
 },
 "nbformat": 4,
 "nbformat_minor": 5
}
