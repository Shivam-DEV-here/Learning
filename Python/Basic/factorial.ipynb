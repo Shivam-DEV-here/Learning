{
 "cells": [
  {
   "cell_type": "code",
   "execution_count": 15,
   "id": "728d7718-ddb8-4818-94f5-158339d842fb",
   "metadata": {},
   "outputs": [
    {
     "name": "stdin",
     "output_type": "stream",
     "text": [
      "Enter num 1\n"
     ]
    },
    {
     "name": "stdout",
     "output_type": "stream",
     "text": [
      "fact= 1\n"
     ]
    }
   ],
   "source": [
    "def factorial(n):\n",
    "    if(n==1):\n",
    "        return 1\n",
    "    else:\n",
    "        return n*factorial(n-1)\n",
    "\n",
    "\n",
    "\n",
    "n=int(input(\"Enter num\"))\n",
    "print(\"fact=\", factorial(n))"
   ]
  },
  {
   "cell_type": "code",
   "execution_count": null,
   "id": "d141c01d-d5e5-4964-8c11-b16abd50c3fe",
   "metadata": {},
   "outputs": [],
   "source": []
  }
 ],
 "metadata": {
  "kernelspec": {
   "display_name": "Python 3 (ipykernel)",
   "language": "python",
   "name": "python3"
  },
  "language_info": {
   "codemirror_mode": {
    "name": "ipython",
    "version": 3
   },
   "file_extension": ".py",
   "mimetype": "text/x-python",
   "name": "python",
   "nbconvert_exporter": "python",
   "pygments_lexer": "ipython3",
   "version": "3.13.2"
  }
 },
 "nbformat": 4,
 "nbformat_minor": 5
}
