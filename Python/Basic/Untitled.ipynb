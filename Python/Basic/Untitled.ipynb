{
 "cells": [
  {
   "cell_type": "code",
   "execution_count": null,
   "id": "4e20b0a6-69fe-4dee-8e82-97bd40b652eb",
   "metadata": {},
   "outputs": [],
   "source": [
    "a = int(input(\"Enter first number\"))\n",
    "b = int(input(\"Enter Second number\"))\n",
    "small=0\n",
    "if a>b:\n",
    "    small = a\n",
    "else:\n",
    "    small=b\n",
    "for i in range(small, 0, -1):\n",
    "    if(a%i==0 and b%i==0):\n",
    "        print(f\"HCF is {i}\")\n",
    "        break"
   ]
  }
 ],
 "metadata": {
  "kernelspec": {
   "display_name": "Python 3 (ipykernel)",
   "language": "python",
   "name": "python3"
  },
  "language_info": {
   "codemirror_mode": {
    "name": "ipython",
    "version": 3
   },
   "file_extension": ".py",
   "mimetype": "text/x-python",
   "name": "python",
   "nbconvert_exporter": "python",
   "pygments_lexer": "ipython3",
   "version": "3.13.3"
  }
 },
 "nbformat": 4,
 "nbformat_minor": 5
}
