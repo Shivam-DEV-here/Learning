{
 "cells": [
  {
   "cell_type": "code",
   "execution_count": 4,
   "id": "c1f861cb-627c-4ed3-87f8-70fb06e32667",
   "metadata": {},
   "outputs": [
    {
     "name": "stdin",
     "output_type": "stream",
     "text": [
      "Enter the number 123\n"
     ]
    },
    {
     "name": "stdout",
     "output_type": "stream",
     "text": [
      "Num was 123 and after reversing it is 321\n"
     ]
    }
   ],
   "source": [
    "x=input(\"Enter the number\")\n",
    "\n",
    "rev=x[::-1]\n",
    "print(f\"Num was {x} and after reversing it is {rev}\")"
   ]
  },
  {
   "cell_type": "code",
   "execution_count": 11,
   "id": "8c7ac9be-01f7-4e47-b225-ed9b00662112",
   "metadata": {},
   "outputs": [
    {
     "name": "stdin",
     "output_type": "stream",
     "text": [
      "Enter the number 13\n"
     ]
    },
    {
     "name": "stdout",
     "output_type": "stream",
     "text": [
      "Reversed num is 31\n"
     ]
    }
   ],
   "source": [
    "a=int(input(\"Enter the number\"))\n",
    "s=0\n",
    "while a!=0 :\n",
    "    x=a%10\n",
    "    s=s*10+x\n",
    "    a=a//10\n",
    "print(f\"Reversed num is {s}\")"
   ]
  },
  {
   "cell_type": "code",
   "execution_count": null,
   "id": "0607af5d-67a1-40ad-a85e-3d8f6d2ceb82",
   "metadata": {},
   "outputs": [],
   "source": []
  }
 ],
 "metadata": {
  "kernelspec": {
   "display_name": "Python 3 (ipykernel)",
   "language": "python",
   "name": "python3"
  },
  "language_info": {
   "codemirror_mode": {
    "name": "ipython",
    "version": 3
   },
   "file_extension": ".py",
   "mimetype": "text/x-python",
   "name": "python",
   "nbconvert_exporter": "python",
   "pygments_lexer": "ipython3",
   "version": "3.13.2"
  }
 },
 "nbformat": 4,
 "nbformat_minor": 5
}
