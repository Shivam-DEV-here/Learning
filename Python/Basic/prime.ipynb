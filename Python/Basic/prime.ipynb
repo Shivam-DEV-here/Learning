{
 "cells": [
  {
   "cell_type": "code",
   "execution_count": 3,
   "id": "58847c71-72b3-43e7-9739-215ae920235e",
   "metadata": {},
   "outputs": [
    {
     "name": "stdin",
     "output_type": "stream",
     "text": [
      "ENter 10\n"
     ]
    },
    {
     "name": "stdout",
     "output_type": "stream",
     "text": [
      "Prime is 6\n",
      "Prime is 8\n"
     ]
    }
   ],
   "source": [
    "num=int(input(\"ENter\"))\n",
    "print(j)\n",
    "j=2\n",
    "while(j<num):\n",
    "    i=2\n",
    "    c=0\n",
    "    while(i<j):\n",
    "        if(j%i==0):\n",
    "            c=c+1\n",
    "        i=i+1\n",
    "    if(c==2):\n",
    "        print(f\"Prime is {j}\")\n",
    "    j=j+1"
   ]
  },
  {
   "cell_type": "code",
   "execution_count": null,
   "id": "ee4afd80-4dcb-4ab1-8894-c815f64acfd3",
   "metadata": {},
   "outputs": [],
   "source": []
  }
 ],
 "metadata": {
  "kernelspec": {
   "display_name": "Python 3 (ipykernel)",
   "language": "python",
   "name": "python3"
  },
  "language_info": {
   "codemirror_mode": {
    "name": "ipython",
    "version": 3
   },
   "file_extension": ".py",
   "mimetype": "text/x-python",
   "name": "python",
   "nbconvert_exporter": "python",
   "pygments_lexer": "ipython3",
   "version": "3.13.2"
  }
 },
 "nbformat": 4,
 "nbformat_minor": 5
}
