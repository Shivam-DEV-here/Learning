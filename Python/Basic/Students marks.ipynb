{
 "cells": [
  {
   "cell_type": "code",
   "execution_count": 7,
   "id": "d6aec7c7-c8c7-4f1e-9e89-2d71a48aae0a",
   "metadata": {},
   "outputs": [
    {
     "name": "stdin",
     "output_type": "stream",
     "text": [
      "Marks 99\n",
      "Marks 99\n",
      "Marks 99\n",
      "Marks 99\n",
      "Marks 99\n"
     ]
    },
    {
     "name": "stdout",
     "output_type": "stream",
     "text": [
      "Total marks is 495.0, and percent is 99.0\n"
     ]
    }
   ],
   "source": [
    "marks =[]\n",
    "sum=0\n",
    "for i in  range(5):\n",
    "    marks.append(float(input(\"Marks\")))\n",
    "\n",
    "for i in range(5):\n",
    "    sum=sum+marks[i]\n",
    "print(f\"Total marks is {sum}, and percent is {sum/500*(100)}\")"
   ]
  },
  {
   "cell_type": "code",
   "execution_count": null,
   "id": "40992a71-d810-4613-b6ce-95041701fe93",
   "metadata": {},
   "outputs": [],
   "source": []
  }
 ],
 "metadata": {
  "kernelspec": {
   "display_name": "Python 3 (ipykernel)",
   "language": "python",
   "name": "python3"
  },
  "language_info": {
   "codemirror_mode": {
    "name": "ipython",
    "version": 3
   },
   "file_extension": ".py",
   "mimetype": "text/x-python",
   "name": "python",
   "nbconvert_exporter": "python",
   "pygments_lexer": "ipython3",
   "version": "3.13.2"
  }
 },
 "nbformat": 4,
 "nbformat_minor": 5
}
