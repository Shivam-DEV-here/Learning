{
 "cells": [
  {
   "cell_type": "code",
   "execution_count": 9,
   "id": "8812b5b7-ac0c-430e-ba92-01523a2a9345",
   "metadata": {},
   "outputs": [
    {
     "name": "stdin",
     "output_type": "stream",
     "text": [
      "Enter first number 12\n",
      "Enter Second number 56\n"
     ]
    },
    {
     "name": "stdout",
     "output_type": "stream",
     "text": [
      "LCM is : 168\n",
      "LCM is : 336\n",
      "LCM is : 504\n",
      "LCM is : 672\n"
     ]
    }
   ],
   "source": [
    "a = int(input(\"Enter first number\"))\n",
    "b = int(input(\"Enter Second number\"))\n",
    "big=0\n",
    "if a>b:\n",
    "    big = a\n",
    "else:\n",
    "    big = b\n",
    "for i in range(big, a*b+1):\n",
    "    if(i%a==0 and i%b==0):\n",
    "        print(\"LCM is :\",i)\n",
    "        break\n",
    "        "
   ]
  },
  {
   "cell_type": "code",
   "execution_count": null,
   "id": "04512250-3385-4942-8a42-eb55276eca38",
   "metadata": {},
   "outputs": [],
   "source": [
    "count = int(input(\"Enter total number\"))\n",
    "for i in range(count):\n",
    "    list.append = int(input(\"Enter next number\"))\n",
    "for i in range(count):\n",
    "    if list[i]>list[i+1]:\n",
    "        x=list[i]\n",
    "for i in range(x):\n",
    "    if list[i]/i==0"
   ]
  }
 ],
 "metadata": {
  "kernelspec": {
   "display_name": "Python 3 (ipykernel)",
   "language": "python",
   "name": "python3"
  },
  "language_info": {
   "codemirror_mode": {
    "name": "ipython",
    "version": 3
   },
   "file_extension": ".py",
   "mimetype": "text/x-python",
   "name": "python",
   "nbconvert_exporter": "python",
   "pygments_lexer": "ipython3",
   "version": "3.13.2"
  }
 },
 "nbformat": 4,
 "nbformat_minor": 5
}
