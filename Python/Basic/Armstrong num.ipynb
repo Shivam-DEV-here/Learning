{
 "cells": [
  {
   "cell_type": "code",
   "execution_count": null,
   "id": "829ffc1f-f9de-47b9-9088-10b51d3674c8",
   "metadata": {},
   "outputs": [
    {
     "name": "stdout",
     "output_type": "stream",
     "text": [
      "enter the number 3\n"
     ]
    },
    {
     "name": "stdout",
     "output_type": "stream",
     "text": [
      "not armstrong number\n"
     ]
    }
   ],
   "source": [
    "#armstrong num = 153, 3\n",
    "a=int(input(\"enter the number\"))\n",
    "z=a\n",
    "s=0\n",
    "while a!=0:\n",
    "   x=a%10\n",
    "   s=s+x*x*x\n",
    "   a=a//10\n",
    "if s==z:\n",
    "    print(\"armstrong number\")\n",
    "else:\n",
    "    print(\"not armstrong number\")"
   ]
  },
  {
   "cell_type": "code",
   "execution_count": 4,
   "id": "dcf32ac2",
   "metadata": {},
   "outputs": [
    {
     "ename": "NameError",
     "evalue": "name 'z' is not defined",
     "output_type": "error",
     "traceback": [
      "\u001b[31m---------------------------------------------------------------------------\u001b[39m",
      "\u001b[31mNameError\u001b[39m                                 Traceback (most recent call last)",
      "\u001b[36mCell\u001b[39m\u001b[36m \u001b[39m\u001b[32mIn[4]\u001b[39m\u001b[32m, line 4\u001b[39m\n\u001b[32m      1\u001b[39m \u001b[38;5;66;03m#armstrong num = 153, 3\u001b[39;00m\n\u001b[32m      2\u001b[39m \u001b[38;5;66;03m# a=int(input(\"enter the number\"))\u001b[39;00m\n\u001b[32m      3\u001b[39m \u001b[38;5;28msum\u001b[39m=\u001b[32m0\u001b[39m\n\u001b[32m----> \u001b[39m\u001b[32m4\u001b[39m i=\u001b[43mz\u001b[49m\n\u001b[32m      5\u001b[39m \u001b[38;5;28;01mfor\u001b[39;00m i \u001b[38;5;129;01min\u001b[39;00m \u001b[38;5;28mrange\u001b[39m(\u001b[32m100\u001b[39m,\u001b[32m1000\u001b[39m):\n\u001b[32m      6\u001b[39m     \u001b[38;5;28;01mwhile\u001b[39;00m num>\u001b[32m0\u001b[39m:\n",
      "\u001b[31mNameError\u001b[39m: name 'z' is not defined"
     ]
    }
   ],
   "source": [
    "#armstrong num = 153, 3\n",
    "# a=int(input(\"enter the number\"))\n",
    "sum=0\n",
    "i=100\n",
    "for i in range(1000):\n",
    "    while num>0:\n",
    "       x=num%10\n",
    "       sum=sum+(x*x*x)\n",
    "       num=num//10\n",
    "    if sum==i:\n",
    "        print(\"armstrong number\", i)\n",
    "        \n",
    "print(\"Hello\")"
   ]
  },
  {
   "cell_type": "code",
   "execution_count": 1,
   "id": "47ff7c67",
   "metadata": {},
   "outputs": [
    {
     "name": "stdout",
     "output_type": "stream",
     "text": [
      "5\n"
     ]
    }
   ],
   "source": [
    "i=78888\n",
    "count=len(str(i))\n",
    "print(count)"
   ]
  },
  {
   "cell_type": "code",
   "execution_count": 5,
   "id": "dc536c29-fc0d-4b59-af5a-b8d8ac341901",
   "metadata": {},
   "outputs": [
    {
     "name": "stdout",
     "output_type": "stream",
     "text": [
      "armstrong number 153\n",
      "armstrong number 370\n",
      "armstrong number 371\n",
      "armstrong number 407\n"
     ]
    }
   ],
   "source": [
    "#armstrong num = 153, 3\n",
    "# a=int(input(\"enter the number\"))\n",
    "for i in range(100,1000):\n",
    "    s=0\n",
    "    a=i\n",
    "    while a!=0:\n",
    "       x=a%10\n",
    "       s=s+x*x*x\n",
    "       a=a//10\n",
    "    if i==s:\n",
    "        print(\"armstrong number\", i)"
   ]
  },
  {
   "cell_type": "code",
   "execution_count": 14,
   "id": "75d1932f-5ee7-4a04-a771-d34db1a9a40f",
   "metadata": {},
   "outputs": [
    {
     "name": "stdout",
     "output_type": "stream",
     "text": [
      "1242.2344703856013\n",
      " Wolds uys sdsds \n"
     ]
    }
   ],
   "source": [
    "x=10.5\n",
    "y=3.03\n",
    "\n",
    "print(x**y)\n",
    "print(\"hello guys sdsds \\r Wolds \")"
   ]
  },
  {
   "cell_type": "code",
   "execution_count": 19,
   "id": "eff05ed8-e4df-402a-83c5-88043a3fbb5a",
   "metadata": {},
   "outputs": [
    {
     "name": "stdout",
     "output_type": "stream",
     "text": [
      "1. New Line (\\n): Hello\n",
      "World\n",
      "2. Tab (\\t): Name:\tShivam\n",
      "3. Backslash (\\\\): Path: C:\\Users\\Shivam\n",
      "4. Single Quote (\\'): It's working\n",
      "5. Double Quote (\\\"): He said, \"Hello!\"\n",
      "6. Backspace (\\b): HelloWorld\n",
      "EndCarriage Return (\\r): Start\n",
      "8. Bell (\\a): You won't see it, but it rings\u0007\n",
      "9. Form Feed (\\f): First Page\f",
      "Second Page\n",
      "10. Vertical Tab (\\v): Line1\u000b",
      "Line2\n"
     ]
    }
   ],
   "source": [
    "print(\"1. New Line (\\\\n): Hello\\nWorld\")\n",
    "print(\"2. Tab (\\\\t): Name:\\tShivam\")\n",
    "print(\"3. Backslash (\\\\\\\\): Path: C:\\\\Users\\\\Shivam\")\n",
    "print(\"4. Single Quote (\\\\'): It\\'s working\")\n",
    "print(\"5. Double Quote (\\\\\\\"): He said, \\\"Hello!\\\"\")\n",
    "print(\"6. Backspace (\\\\b): Helloo\\bWorld\")\n",
    "print(\"7. Carriage Return (\\\\r): Start\\rEnd\")\n",
    "\n"
   ]
  },
  {
   "cell_type": "code",
   "execution_count": null,
   "id": "a05ed77d-627c-4b46-a394-d7fc2c1892ae",
   "metadata": {},
   "outputs": [],
   "source": []
  }
 ],
 "metadata": {
  "kernelspec": {
   "display_name": "Python 3 (ipykernel)",
   "language": "python",
   "name": "python3"
  },
  "language_info": {
   "codemirror_mode": {
    "name": "ipython",
    "version": 3
   },
   "file_extension": ".py",
   "mimetype": "text/x-python",
   "name": "python",
   "nbconvert_exporter": "python",
   "pygments_lexer": "ipython3",
   "version": "3.13.2"
  }
 },
 "nbformat": 4,
 "nbformat_minor": 5
}
