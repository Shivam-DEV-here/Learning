{
 "cells": [
  {
   "cell_type": "code",
   "execution_count": 2,
   "id": "383c3592-6daa-4550-a915-d4dcb39ea4aa",
   "metadata": {},
   "outputs": [
    {
     "name": "stdin",
     "output_type": "stream",
     "text": [
      "enter the number 12321\n"
     ]
    },
    {
     "name": "stdout",
     "output_type": "stream",
     "text": [
      "palindrom number\n"
     ]
    }
   ],
   "source": [
    "#Palindrom = 12321, 121, \n",
    "\n",
    "a=int(input(\"enter the number\"))\n",
    "z=a\n",
    "s=0\n",
    "while a!=0:\n",
    "   x=a%10\n",
    "   s=s*10+x\n",
    "   a=a//10\n",
    "if s==z:\n",
    "    print(\"palindrom number\")\n",
    "else:\n",
    "    print(\"not palindrom number\")"
   ]
  },
  {
   "cell_type": "code",
   "execution_count": null,
   "id": "24af8108-24eb-4ea4-a585-702e8d9deae9",
   "metadata": {},
   "outputs": [],
   "source": []
  }
 ],
 "metadata": {
  "kernelspec": {
   "display_name": "Python 3 (ipykernel)",
   "language": "python",
   "name": "python3"
  },
  "language_info": {
   "codemirror_mode": {
    "name": "ipython",
    "version": 3
   },
   "file_extension": ".py",
   "mimetype": "text/x-python",
   "name": "python",
   "nbconvert_exporter": "python",
   "pygments_lexer": "ipython3",
   "version": "3.13.2"
  }
 },
 "nbformat": 4,
 "nbformat_minor": 5
}
