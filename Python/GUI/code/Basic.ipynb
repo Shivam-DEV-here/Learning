{
 "cells": [
  {
   "cell_type": "code",
   "execution_count": 3,
   "id": "ecb88558-c281-4915-8aab-0f0875b9985b",
   "metadata": {},
   "outputs": [
    {
     "name": "stdout",
     "output_type": "stream",
     "text": [
      "Hey\n"
     ]
    }
   ],
   "source": [
    "from tkinter import*\n",
    "# !pip install pillow\n",
    "from PIL import Image, ImageTk\n",
    "\n",
    "\n",
    "root = Tk()\n",
    "\n",
    "root.geometry(\"600x300\")\n",
    "root.minsize(200,100)\n",
    "\n",
    "root.title(\".py GUI\")\n",
    "\n",
    "heading = Label(text=\"News Wallah\", bg=\"black\", fg=\"white\", padx=4, pady=6, font=\"comicsansms 25 bold\", borderwidth=1)\n",
    "heading.pack(side= TOP, fill=X)\n",
    "\n",
    "sub_heading = Label(text=\"Date: 19/06/2025       reference: www.newswallah.com\", bg=\"black\", fg=\"white\", padx=20, pady=6, font=\"comicsansms 13 italic\", borderwidth=3, relief=SUNKEN)\n",
    "sub_heading.pack(side= TOP, fill=X)\n",
    "\n",
    "img_head= Image.open(\"../media/good_morn.jpeg\")\n",
    "img_head=img_head.resize((1550,150))\n",
    "img_top= ImageTk.PhotoImage(img_head)\n",
    "img_label = Label(image=img_top)\n",
    "img_label.pack(side=TOP, fill=X)\n",
    "\n",
    "img2= Image.open(\"../media/pika.jpeg\")\n",
    "img2=img2.resize((260,150))\n",
    "first= ImageTk.PhotoImage(img2)\n",
    "img_label = Label(image=first)\n",
    "img_label.pack(side=LEFT)\n",
    "\n",
    "pehle = Label(text=\"Pikachu very dangerous but cutti is found on round need to catch him no i mean hide and stay home bijli chuuu yeee pikachhu i am coming go to hell newz wallah\")\n",
    "pehle.pack(side=LEFT, anchor=\"sw\")\n",
    "\n",
    "img3= Image.open(\"../media/pika.jpeg\")\n",
    "img3=img3.resize((260,150))\n",
    "second= ImageTk.PhotoImage(img3)\n",
    "img_label = Label(image=second)\n",
    "img_label.pack(side=LEFT)\n",
    "\n",
    "root.mainloop()\n",
    "print(\"Hey\")"
   ]
  },
  {
   "cell_type": "code",
   "execution_count": null,
   "id": "b1077123-eeb7-4da4-adfd-c843db0d5e61",
   "metadata": {},
   "outputs": [],
   "source": []
  },
  {
   "cell_type": "code",
   "execution_count": null,
   "id": "a933537a-471d-4b46-818f-e54a1ef03986",
   "metadata": {},
   "outputs": [],
   "source": []
  }
 ],
 "metadata": {
  "kernelspec": {
   "display_name": "Python 3 (ipykernel)",
   "language": "python",
   "name": "python3"
  },
  "language_info": {
   "codemirror_mode": {
    "name": "ipython",
    "version": 3
   },
   "file_extension": ".py",
   "mimetype": "text/x-python",
   "name": "python",
   "nbconvert_exporter": "python",
   "pygments_lexer": "ipython3",
   "version": "3.13.3"
  }
 },
 "nbformat": 4,
 "nbformat_minor": 5
}
