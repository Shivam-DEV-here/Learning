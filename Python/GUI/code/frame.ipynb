{
 "cells": [
  {
   "cell_type": "code",
   "execution_count": 1,
   "id": "3f2f3935-c4f6-4c64-9396-1bf874067969",
   "metadata": {},
   "outputs": [],
   "source": [
    "from tkinter import*\n",
    "root=Tk()\n",
    "root.geometry(\"700x500\")\n",
    "f1 = Frame(root, bg=\"black\", borderwidth=6, relief=SUNKEN)\n",
    "f1.pack(side=TOP, fill=X)\n",
    "\n",
    "l1 = Label(f1, text=\"Ooo pi pi\", bg=\"black\",fg=\"white\")\n",
    "l1.pack()\n",
    "\n",
    "l2 = Label(f1, text=\"ye dono label single frame mai hia\", bg=\"black\",fg=\"white\")\n",
    "l2.pack()\n",
    "\n",
    "f2=Frame(root, bg=\"red\")\n",
    "f2.pack(side=LEFT,fill=Y)\n",
    "\n",
    "l3= Label(f2,text=\"yeee\")\n",
    "l3.pack()\n",
    "\n",
    "root.mainloop()"
   ]
  },
  {
   "cell_type": "code",
   "execution_count": 29,
   "id": "77f74d31-045c-44a1-9dd0-a86a25d3e2fd",
   "metadata": {},
   "outputs": [
    {
     "name": "stdin",
     "output_type": "stream",
     "text": [
      "hjdshd 7\n"
     ]
    }
   ],
   "source": [
    "x=int(input(\"hjdshd\"))"
   ]
  },
  {
   "cell_type": "code",
   "execution_count": null,
   "id": "c6c961b7-3680-493e-bfa2-c723917598e4",
   "metadata": {},
   "outputs": [],
   "source": []
  }
 ],
 "metadata": {
  "kernelspec": {
   "display_name": "Python 3 (ipykernel)",
   "language": "python",
   "name": "python3"
  },
  "language_info": {
   "codemirror_mode": {
    "name": "ipython",
    "version": 3
   },
   "file_extension": ".py",
   "mimetype": "text/x-python",
   "name": "python",
   "nbconvert_exporter": "python",
   "pygments_lexer": "ipython3",
   "version": "3.13.3"
  }
 },
 "nbformat": 4,
 "nbformat_minor": 5
}
